{
 "cells": [
  {
   "cell_type": "code",
   "execution_count": 8,
   "metadata": {},
   "outputs": [
    {
     "name": "stdout",
     "output_type": "stream",
     "text": [
      "[[  0.  21.  21.  12. 101.]\n",
      " [ 21.   0.  18.   5. 204.]\n",
      " [ 21.  18.   0.   5. 150.]\n",
      " [ 12.   5.   5.   0. 157.]\n",
      " [101. 204. 150. 157.   0.]]\n",
      "21.0\n",
      "21.0\n",
      "18.0\n",
      "12.0\n",
      "5.0\n",
      "5.0\n",
      "101.0\n",
      "204.0\n",
      "150.0\n",
      "157.0\n",
      "694.0\n"
     ]
    }
   ],
   "source": [
    "from sklearn.metrics import pairwise_distances\n",
    "X = [[0, 0, 0],[1,2,4],[4,2,1],[2,2,2],[-1,0,-10]]\n",
    "Y =pairwise_distances(X,metric='sqeuclidean')\n",
    "\n",
    "fc = Y.shape\n",
    "f = fc[0]\n",
    "\n",
    "print(Y)\n",
    "distancia = 0\n",
    "for h in range(f):\n",
    "     for g in range(h):\n",
    "        distancia += Y[h][g]\n",
    "        print(Y[h][g])\n",
    "\n",
    "#for i in range(1,10):\n",
    "  #  print(i)\n",
    "\n",
    "#for k in range(1):\n",
    " #   print(k)\n",
    "\n",
    "print(distancia)"
   ]
  }
 ],
 "metadata": {
  "kernelspec": {
   "display_name": "base",
   "language": "python",
   "name": "python3"
  },
  "language_info": {
   "codemirror_mode": {
    "name": "ipython",
    "version": 3
   },
   "file_extension": ".py",
   "mimetype": "text/x-python",
   "name": "python",
   "nbconvert_exporter": "python",
   "pygments_lexer": "ipython3",
   "version": "3.12.3"
  }
 },
 "nbformat": 4,
 "nbformat_minor": 2
}
